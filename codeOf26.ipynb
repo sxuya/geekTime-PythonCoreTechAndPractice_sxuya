{
 "cells": [
  {
   "cell_type": "code",
   "execution_count": 2,
   "metadata": {},
   "outputs": [
    {
     "name": "stdout",
     "output_type": "stream",
     "text": [
      "sxuya is compensated 0 dollars\n"
     ]
    }
   ],
   "source": [
    "def pay(name, salary=None):\n",
    "    if salary is None:\n",
    "        salary = 11\n",
    "    print(name, 'is compensated', salary, \"dollars\")\n",
    "    \n",
    "pay(\"sxuya\", 0)"
   ]
  },
  {
   "cell_type": "code",
   "execution_count": 3,
   "metadata": {},
   "outputs": [
    {
     "name": "stdout",
     "output_type": "stream",
     "text": [
      "sxuya is compensated 11 dollars\n"
     ]
    }
   ],
   "source": [
    "def pay(name, salary=None):\n",
    "    if not salary:\n",
    "        salary = 11\n",
    "    print(name, \"is compensated\", salary, \"dollars\")\n",
    "pay(\"sxuya\", 0)"
   ]
  },
  {
   "cell_type": "code",
   "execution_count": 5,
   "metadata": {},
   "outputs": [
    {
     "name": "stdout",
     "output_type": "stream",
     "text": [
      "4\n"
     ]
    }
   ],
   "source": [
    "print(9 // 2)"
   ]
  }
 ],
 "metadata": {
  "kernelspec": {
   "display_name": "python3.7.1",
   "language": "python",
   "name": "python3.7.1"
  },
  "language_info": {
   "codemirror_mode": {
    "name": "ipython",
    "version": 3
   },
   "file_extension": ".py",
   "mimetype": "text/x-python",
   "name": "python",
   "nbconvert_exporter": "python",
   "pygments_lexer": "ipython3",
   "version": "3.7.1"
  }
 },
 "nbformat": 4,
 "nbformat_minor": 2
}
