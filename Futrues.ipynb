{
 "cells": [
  {
   "cell_type": "code",
   "execution_count": 2,
   "metadata": {},
   "outputs": [
    {
     "name": "stdout",
     "output_type": "stream",
     "text": [
      "Read 183430 from https://en.wikipedia.org/wiki/Portal:Arts\n",
      "Read 312034 from https://en.wikipedia.org/wiki/Portal:History\n",
      "Read 253442 from https://en.wikipedia.org/wiki/Portal:Society\n",
      "Read 339043 from https://en.wikipedia.org/wiki/Portal:Biography\n",
      "Read 144767 from https://en.wikipedia.org/wiki/Portal:Mathematics\n",
      "Read 181467 from https://en.wikipedia.org/wiki/Portal:Technology\n",
      "Read 210074 from https://en.wikipedia.org/wiki/Portal:Geography\n",
      "Read 159783 from https://en.wikipedia.org/wiki/Portal:Science\n",
      "Read 359733 from https://en.wikipedia.org/wiki/Computer_science\n",
      "Read 438527 from https://en.wikipedia.org/wiki/Python_(programming_language)\n",
      "Read 328870 from https://en.wikipedia.org/wiki/Java_(programming_language)\n",
      "Read 530913 from https://en.wikipedia.org/wiki/PHP\n",
      "Read 189738 from https://en.wikipedia.org/wiki/Node.js\n",
      "Read 62717 from https://en.wikipedia.org/wiki/The_C_Programming_Language\n",
      "Read 322108 from https://en.wikipedia.org/wiki/Go_(programming_language)\n",
      "Download 15 sites in 22.210829900000007 seconds\n"
     ]
    }
   ],
   "source": [
    "import requests\n",
    "import time\n",
    "\n",
    "def download_one(url):\n",
    "    resp = requests.get(url)\n",
    "    print('Read {} from {}'.format(len(resp.content), url))\n",
    "    \n",
    "def download_all(sites):\n",
    "    for site in sites:\n",
    "        download_one(site)\n",
    "\n",
    "def main():\n",
    "    sites = [\n",
    "        'https://en.wikipedia.org/wiki/Portal:Arts',\n",
    "        'https://en.wikipedia.org/wiki/Portal:History',\n",
    "        'https://en.wikipedia.org/wiki/Portal:Society',\n",
    "        'https://en.wikipedia.org/wiki/Portal:Biography',\n",
    "        'https://en.wikipedia.org/wiki/Portal:Mathematics',\n",
    "        'https://en.wikipedia.org/wiki/Portal:Technology',\n",
    "        'https://en.wikipedia.org/wiki/Portal:Geography',\n",
    "        'https://en.wikipedia.org/wiki/Portal:Science',\n",
    "        'https://en.wikipedia.org/wiki/Computer_science',\n",
    "        'https://en.wikipedia.org/wiki/Python_(programming_language)',\n",
    "        'https://en.wikipedia.org/wiki/Java_(programming_language)',\n",
    "        'https://en.wikipedia.org/wiki/PHP',\n",
    "        'https://en.wikipedia.org/wiki/Node.js',\n",
    "        'https://en.wikipedia.org/wiki/The_C_Programming_Language',\n",
    "        'https://en.wikipedia.org/wiki/Go_(programming_language)'\n",
    "    ]\n",
    "    start_time = time.perf_counter()\n",
    "    download_all(sites)\n",
    "    end_time = time.perf_counter()\n",
    "    print('Download {} sites in {} seconds'.format(len(sites), end_time - start_time))\n",
    "    \n",
    "if __name__ == '__main__':\n",
    "    main()"
   ]
  }
 ],
 "metadata": {
  "kernelspec": {
   "display_name": "python3.7.1",
   "language": "python",
   "name": "python3.7.1"
  },
  "language_info": {
   "codemirror_mode": {
    "name": "ipython",
    "version": 3
   },
   "file_extension": ".py",
   "mimetype": "text/x-python",
   "name": "python",
   "nbconvert_exporter": "python",
   "pygments_lexer": "ipython3",
   "version": "3.7.1"
  }
 },
 "nbformat": 4,
 "nbformat_minor": 2
}
